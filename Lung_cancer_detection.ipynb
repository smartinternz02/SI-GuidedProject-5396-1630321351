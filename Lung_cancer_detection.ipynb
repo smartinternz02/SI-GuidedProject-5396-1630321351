{
 "cells": [
  {
   "cell_type": "code",
   "execution_count": 1,
   "id": "c8f090e0",
   "metadata": {},
   "outputs": [],
   "source": [
    "#importing the libraries\n",
    "from keras.models import Sequential\n",
    "from  keras.layers import Conv2D\n",
    "from  keras.layers import MaxPooling2D\n",
    "from  keras.layers import Flatten\n",
    "from  keras.layers import Dense "
   ]
  },
  {
   "cell_type": "code",
   "execution_count": 2,
   "id": "b21f0d24",
   "metadata": {},
   "outputs": [],
   "source": [
    "#initialising the convolutionNN\n",
    "lung=Sequential()"
   ]
  },
  {
   "cell_type": "code",
   "execution_count": 3,
   "id": "cd21c47b",
   "metadata": {},
   "outputs": [],
   "source": [
    "#convolution\n",
    "lung.add(Conv2D(32, (3, 3), input_shape = (64, 64, 1), activation = 'relu'))"
   ]
  },
  {
   "cell_type": "code",
   "execution_count": 4,
   "id": "fc51d8d4",
   "metadata": {},
   "outputs": [],
   "source": [
    "#pooling\n",
    "lung.add(MaxPooling2D(pool_size = (2, 2)))"
   ]
  },
  {
   "cell_type": "code",
   "execution_count": 5,
   "id": "eaa26108",
   "metadata": {},
   "outputs": [],
   "source": [
    "#flatenning\n",
    "lung.add(Flatten())"
   ]
  },
  {
   "cell_type": "code",
   "execution_count": 6,
   "id": "2bd20063",
   "metadata": {},
   "outputs": [],
   "source": [
    "lung.add(Dense(units = 128,activation = \"relu\")) #hidden layer"
   ]
  },
  {
   "cell_type": "code",
   "execution_count": 7,
   "id": "e833e27b",
   "metadata": {},
   "outputs": [],
   "source": [
    "lung.add(Dense(units = 1,activation = \"sigmoid\")) #hidden layer"
   ]
  },
  {
   "cell_type": "code",
   "execution_count": 8,
   "id": "9e03eea4",
   "metadata": {},
   "outputs": [],
   "source": [
    "# Compiling the CNN\n",
    "lung.compile(optimizer = 'adam', loss = 'binary_crossentropy', metrics = ['accuracy'])"
   ]
  },
  {
   "cell_type": "code",
   "execution_count": 9,
   "id": "530ba67f",
   "metadata": {},
   "outputs": [],
   "source": [
    "from keras.preprocessing.image import ImageDataGenerator\n",
    "train_datagen = ImageDataGenerator(rescale = 1./255,shear_range = 0.2,zoom_range = 0.2,horizontal_flip = True)\n",
    "test_datagen = ImageDataGenerator(rescale = 1./255)"
   ]
  },
  {
   "cell_type": "code",
   "execution_count": 10,
   "id": "7f32e0be",
   "metadata": {},
   "outputs": [
    {
     "name": "stdout",
     "output_type": "stream",
     "text": [
      "Found 102 images belonging to 2 classes.\n",
      "Found 40 images belonging to 2 classes.\n"
     ]
    }
   ],
   "source": [
    "x_train = train_datagen.flow_from_directory(\n",
    "    r\"C:\\AI smartinternz\\proj\\Lungcancer\\trainset\"\n",
    "    ,target_size = (64,64),batch_size = 32 ,\n",
    "    class_mode = 'binary',color_mode=\"grayscale\")\n",
    "x_test = test_datagen.flow_from_directory(\n",
    "    r\"C:\\AI smartinternz\\proj\\Lungcancer\\testset\",\n",
    "    target_size = (64,64),batch_size = 32 , \n",
    "    class_mode = 'binary',color_mode=\"grayscale\")\n"
   ]
  },
  {
   "cell_type": "code",
   "execution_count": 11,
   "id": "9e940b7c",
   "metadata": {},
   "outputs": [
    {
     "name": "stdout",
     "output_type": "stream",
     "text": [
      "WARNING:tensorflow:From <ipython-input-11-70df722b4dca>:1: Model.fit_generator (from tensorflow.python.keras.engine.training) is deprecated and will be removed in a future version.\n",
      "Instructions for updating:\n",
      "Please use Model.fit, which supports generators.\n",
      "Epoch 1/100\n",
      "4/4 [==============================] - 1s 224ms/step - loss: 0.8293 - accuracy: 0.5294 - val_loss: 0.9683 - val_accuracy: 0.5000\n",
      "Epoch 2/100\n",
      "4/4 [==============================] - 1s 139ms/step - loss: 0.7576 - accuracy: 0.5980 - val_loss: 0.6751 - val_accuracy: 0.5500\n",
      "Epoch 3/100\n",
      "4/4 [==============================] - 1s 155ms/step - loss: 0.6453 - accuracy: 0.5588 - val_loss: 0.6330 - val_accuracy: 0.5750\n",
      "Epoch 4/100\n",
      "4/4 [==============================] - 1s 140ms/step - loss: 0.6307 - accuracy: 0.6471 - val_loss: 0.5666 - val_accuracy: 0.6250\n",
      "Epoch 5/100\n",
      "4/4 [==============================] - 1s 143ms/step - loss: 0.6440 - accuracy: 0.6176 - val_loss: 0.6342 - val_accuracy: 0.7000\n",
      "Epoch 6/100\n",
      "4/4 [==============================] - 1s 148ms/step - loss: 0.6336 - accuracy: 0.6176 - val_loss: 0.5147 - val_accuracy: 0.7250\n",
      "Epoch 7/100\n",
      "4/4 [==============================] - 1s 146ms/step - loss: 0.5744 - accuracy: 0.7059 - val_loss: 0.6640 - val_accuracy: 0.6000\n",
      "Epoch 8/100\n",
      "4/4 [==============================] - 1s 145ms/step - loss: 0.5613 - accuracy: 0.7353 - val_loss: 0.4732 - val_accuracy: 0.6750\n",
      "Epoch 9/100\n",
      "4/4 [==============================] - 1s 135ms/step - loss: 0.5111 - accuracy: 0.7255 - val_loss: 0.4645 - val_accuracy: 0.7500\n",
      "Epoch 10/100\n",
      "4/4 [==============================] - 1s 138ms/step - loss: 0.4929 - accuracy: 0.7451 - val_loss: 0.4410 - val_accuracy: 0.7250\n",
      "Epoch 11/100\n",
      "4/4 [==============================] - 1s 175ms/step - loss: 0.4976 - accuracy: 0.7353 - val_loss: 0.4983 - val_accuracy: 0.7750\n",
      "Epoch 12/100\n",
      "4/4 [==============================] - 1s 138ms/step - loss: 0.4350 - accuracy: 0.8431 - val_loss: 0.5077 - val_accuracy: 0.8250\n",
      "Epoch 13/100\n",
      "4/4 [==============================] - 1s 169ms/step - loss: 0.4588 - accuracy: 0.7549 - val_loss: 0.4407 - val_accuracy: 0.7750\n",
      "Epoch 14/100\n",
      "4/4 [==============================] - 1s 137ms/step - loss: 0.4030 - accuracy: 0.8137 - val_loss: 0.4127 - val_accuracy: 0.7750\n",
      "Epoch 15/100\n",
      "4/4 [==============================] - 1s 140ms/step - loss: 0.3753 - accuracy: 0.8333 - val_loss: 0.4307 - val_accuracy: 0.8500\n",
      "Epoch 16/100\n",
      "4/4 [==============================] - 1s 145ms/step - loss: 0.3723 - accuracy: 0.8039 - val_loss: 0.4533 - val_accuracy: 0.8750\n",
      "Epoch 17/100\n",
      "4/4 [==============================] - 1s 141ms/step - loss: 0.3549 - accuracy: 0.8235 - val_loss: 0.4002 - val_accuracy: 0.8500\n",
      "Epoch 18/100\n",
      "4/4 [==============================] - 1s 178ms/step - loss: 0.4173 - accuracy: 0.8137 - val_loss: 0.3622 - val_accuracy: 0.8750\n",
      "Epoch 19/100\n",
      "4/4 [==============================] - 1s 137ms/step - loss: 0.3476 - accuracy: 0.8725 - val_loss: 0.4965 - val_accuracy: 0.8250\n",
      "Epoch 20/100\n",
      "4/4 [==============================] - 1s 141ms/step - loss: 0.3197 - accuracy: 0.8824 - val_loss: 0.3225 - val_accuracy: 0.8500\n",
      "Epoch 21/100\n",
      "4/4 [==============================] - 1s 136ms/step - loss: 0.3274 - accuracy: 0.8725 - val_loss: 0.3399 - val_accuracy: 0.8750\n",
      "Epoch 22/100\n",
      "4/4 [==============================] - 1s 138ms/step - loss: 0.2982 - accuracy: 0.8725 - val_loss: 0.3189 - val_accuracy: 0.9000\n",
      "Epoch 23/100\n",
      "4/4 [==============================] - 1s 140ms/step - loss: 0.3099 - accuracy: 0.8824 - val_loss: 0.3104 - val_accuracy: 0.9000\n",
      "Epoch 24/100\n",
      "4/4 [==============================] - 1s 143ms/step - loss: 0.3253 - accuracy: 0.8627 - val_loss: 0.2489 - val_accuracy: 0.9000\n",
      "Epoch 25/100\n",
      "4/4 [==============================] - 1s 138ms/step - loss: 0.2706 - accuracy: 0.9216 - val_loss: 0.3879 - val_accuracy: 0.8500\n",
      "Epoch 26/100\n",
      "4/4 [==============================] - 1s 141ms/step - loss: 0.2745 - accuracy: 0.9020 - val_loss: 0.2322 - val_accuracy: 0.9250\n",
      "Epoch 27/100\n",
      "4/4 [==============================] - 1s 177ms/step - loss: 0.2968 - accuracy: 0.9118 - val_loss: 0.2273 - val_accuracy: 0.9250\n",
      "Epoch 28/100\n",
      "4/4 [==============================] - 1s 174ms/step - loss: 0.3142 - accuracy: 0.8627 - val_loss: 0.2356 - val_accuracy: 0.9250\n",
      "Epoch 29/100\n",
      "4/4 [==============================] - 1s 140ms/step - loss: 0.2843 - accuracy: 0.8627 - val_loss: 0.2002 - val_accuracy: 0.9250\n",
      "Epoch 30/100\n",
      "4/4 [==============================] - 1s 140ms/step - loss: 0.2776 - accuracy: 0.8725 - val_loss: 0.1831 - val_accuracy: 0.9250\n",
      "Epoch 31/100\n",
      "4/4 [==============================] - 1s 139ms/step - loss: 0.2840 - accuracy: 0.8529 - val_loss: 0.2441 - val_accuracy: 0.9250\n",
      "Epoch 32/100\n",
      "4/4 [==============================] - 1s 170ms/step - loss: 0.2919 - accuracy: 0.8824 - val_loss: 0.2122 - val_accuracy: 0.9250\n",
      "Epoch 33/100\n",
      "4/4 [==============================] - 1s 182ms/step - loss: 0.3965 - accuracy: 0.8039 - val_loss: 0.1401 - val_accuracy: 0.9500\n",
      "Epoch 34/100\n",
      "4/4 [==============================] - 1s 174ms/step - loss: 0.4608 - accuracy: 0.7451 - val_loss: 0.6249 - val_accuracy: 0.6500\n",
      "Epoch 35/100\n",
      "4/4 [==============================] - 1s 143ms/step - loss: 0.3438 - accuracy: 0.8529 - val_loss: 0.1835 - val_accuracy: 0.9250\n",
      "Epoch 36/100\n",
      "4/4 [==============================] - 1s 148ms/step - loss: 0.3106 - accuracy: 0.8725 - val_loss: 0.1176 - val_accuracy: 1.0000\n",
      "Epoch 37/100\n",
      "4/4 [==============================] - 1s 140ms/step - loss: 0.2506 - accuracy: 0.9020 - val_loss: 0.2774 - val_accuracy: 0.8750\n",
      "Epoch 38/100\n",
      "4/4 [==============================] - 1s 131ms/step - loss: 0.2296 - accuracy: 0.9118 - val_loss: 0.0964 - val_accuracy: 0.9750\n",
      "Epoch 39/100\n",
      "4/4 [==============================] - 1s 135ms/step - loss: 0.2123 - accuracy: 0.9314 - val_loss: 0.0968 - val_accuracy: 0.9750\n",
      "Epoch 40/100\n",
      "4/4 [==============================] - 1s 136ms/step - loss: 0.2012 - accuracy: 0.9216 - val_loss: 0.2061 - val_accuracy: 0.9250\n",
      "Epoch 41/100\n",
      "4/4 [==============================] - 1s 172ms/step - loss: 0.2087 - accuracy: 0.9020 - val_loss: 0.1271 - val_accuracy: 0.9500\n",
      "Epoch 42/100\n",
      "4/4 [==============================] - 1s 136ms/step - loss: 0.1716 - accuracy: 0.9314 - val_loss: 0.1139 - val_accuracy: 0.9500\n",
      "Epoch 43/100\n",
      "4/4 [==============================] - 1s 140ms/step - loss: 0.1394 - accuracy: 0.9608 - val_loss: 0.1050 - val_accuracy: 0.9500\n",
      "Epoch 44/100\n",
      "4/4 [==============================] - 1s 139ms/step - loss: 0.1444 - accuracy: 0.9706 - val_loss: 0.0889 - val_accuracy: 1.0000\n",
      "Epoch 45/100\n",
      "4/4 [==============================] - 1s 135ms/step - loss: 0.1280 - accuracy: 0.9804 - val_loss: 0.0887 - val_accuracy: 1.0000\n",
      "Epoch 46/100\n",
      "4/4 [==============================] - 1s 138ms/step - loss: 0.1383 - accuracy: 0.9706 - val_loss: 0.1370 - val_accuracy: 0.9500\n",
      "Epoch 47/100\n",
      "4/4 [==============================] - 1s 133ms/step - loss: 0.1229 - accuracy: 0.9804 - val_loss: 0.1306 - val_accuracy: 0.9500\n",
      "Epoch 48/100\n",
      "4/4 [==============================] - 1s 142ms/step - loss: 0.1555 - accuracy: 0.9412 - val_loss: 0.1009 - val_accuracy: 0.9500\n",
      "Epoch 49/100\n",
      "4/4 [==============================] - 1s 137ms/step - loss: 0.1541 - accuracy: 0.9510 - val_loss: 0.0965 - val_accuracy: 0.9750\n",
      "Epoch 50/100\n",
      "4/4 [==============================] - 1s 135ms/step - loss: 0.1471 - accuracy: 0.9608 - val_loss: 0.1009 - val_accuracy: 0.9500\n",
      "Epoch 51/100\n",
      "4/4 [==============================] - 1s 170ms/step - loss: 0.1157 - accuracy: 0.9706 - val_loss: 0.1552 - val_accuracy: 0.9500\n",
      "Epoch 52/100\n",
      "4/4 [==============================] - 1s 172ms/step - loss: 0.1402 - accuracy: 0.9412 - val_loss: 0.0995 - val_accuracy: 0.9750\n",
      "Epoch 53/100\n",
      "4/4 [==============================] - 1s 135ms/step - loss: 0.1502 - accuracy: 0.9608 - val_loss: 0.0930 - val_accuracy: 0.9750\n",
      "Epoch 54/100\n",
      "4/4 [==============================] - 1s 132ms/step - loss: 0.1007 - accuracy: 0.9706 - val_loss: 0.0868 - val_accuracy: 1.0000\n",
      "Epoch 55/100\n",
      "4/4 [==============================] - 1s 135ms/step - loss: 0.0985 - accuracy: 0.9902 - val_loss: 0.0792 - val_accuracy: 1.0000\n",
      "Epoch 56/100\n",
      "4/4 [==============================] - 1s 137ms/step - loss: 0.0842 - accuracy: 1.0000 - val_loss: 0.0755 - val_accuracy: 1.0000\n"
     ]
    },
    {
     "name": "stdout",
     "output_type": "stream",
     "text": [
      "Epoch 57/100\n",
      "4/4 [==============================] - 1s 168ms/step - loss: 0.0831 - accuracy: 0.9804 - val_loss: 0.0797 - val_accuracy: 1.0000\n",
      "Epoch 58/100\n",
      "4/4 [==============================] - 1s 172ms/step - loss: 0.1054 - accuracy: 0.9804 - val_loss: 0.0678 - val_accuracy: 1.0000\n",
      "Epoch 59/100\n",
      "4/4 [==============================] - 1s 170ms/step - loss: 0.0912 - accuracy: 0.9902 - val_loss: 0.0568 - val_accuracy: 1.0000\n",
      "Epoch 60/100\n",
      "4/4 [==============================] - 1s 138ms/step - loss: 0.0976 - accuracy: 0.9804 - val_loss: 0.0659 - val_accuracy: 1.0000\n",
      "Epoch 61/100\n",
      "4/4 [==============================] - 1s 134ms/step - loss: 0.0761 - accuracy: 0.9902 - val_loss: 0.0537 - val_accuracy: 1.0000\n",
      "Epoch 62/100\n",
      "4/4 [==============================] - 1s 170ms/step - loss: 0.0879 - accuracy: 0.9804 - val_loss: 0.0429 - val_accuracy: 1.0000\n",
      "Epoch 63/100\n",
      "4/4 [==============================] - 1s 135ms/step - loss: 0.0801 - accuracy: 0.9804 - val_loss: 0.0405 - val_accuracy: 1.0000\n",
      "Epoch 64/100\n",
      "4/4 [==============================] - 1s 137ms/step - loss: 0.1002 - accuracy: 0.9706 - val_loss: 0.0384 - val_accuracy: 1.0000\n",
      "Epoch 65/100\n",
      "4/4 [==============================] - 1s 178ms/step - loss: 0.0944 - accuracy: 0.9706 - val_loss: 0.0785 - val_accuracy: 0.9750\n",
      "Epoch 66/100\n",
      "4/4 [==============================] - 1s 136ms/step - loss: 0.0835 - accuracy: 0.9804 - val_loss: 0.0464 - val_accuracy: 1.0000\n",
      "Epoch 67/100\n",
      "4/4 [==============================] - 1s 137ms/step - loss: 0.0831 - accuracy: 0.9902 - val_loss: 0.0434 - val_accuracy: 1.0000\n",
      "Epoch 68/100\n",
      "4/4 [==============================] - 1s 140ms/step - loss: 0.0927 - accuracy: 0.9706 - val_loss: 0.1870 - val_accuracy: 0.9250\n",
      "Epoch 69/100\n",
      "4/4 [==============================] - 1s 136ms/step - loss: 0.1362 - accuracy: 0.9314 - val_loss: 0.0705 - val_accuracy: 0.9500\n",
      "Epoch 70/100\n",
      "4/4 [==============================] - 1s 135ms/step - loss: 0.1753 - accuracy: 0.9020 - val_loss: 0.0949 - val_accuracy: 1.0000\n",
      "Epoch 71/100\n",
      "4/4 [==============================] - 1s 134ms/step - loss: 0.0986 - accuracy: 0.9706 - val_loss: 0.0402 - val_accuracy: 1.0000\n",
      "Epoch 72/100\n",
      "4/4 [==============================] - 1s 168ms/step - loss: 0.2374 - accuracy: 0.9118 - val_loss: 0.0430 - val_accuracy: 1.0000\n",
      "Epoch 73/100\n",
      "4/4 [==============================] - 1s 196ms/step - loss: 0.1610 - accuracy: 0.9412 - val_loss: 0.1051 - val_accuracy: 1.0000\n",
      "Epoch 74/100\n",
      "4/4 [==============================] - 1s 146ms/step - loss: 0.0724 - accuracy: 0.9902 - val_loss: 0.0432 - val_accuracy: 1.0000\n",
      "Epoch 75/100\n",
      "4/4 [==============================] - 1s 141ms/step - loss: 0.1112 - accuracy: 0.9608 - val_loss: 0.0386 - val_accuracy: 1.0000\n",
      "Epoch 76/100\n",
      "4/4 [==============================] - 1s 152ms/step - loss: 0.1064 - accuracy: 0.9510 - val_loss: 0.0589 - val_accuracy: 1.0000\n",
      "Epoch 77/100\n",
      "4/4 [==============================] - 1s 153ms/step - loss: 0.0603 - accuracy: 0.9902 - val_loss: 0.0515 - val_accuracy: 0.9750\n",
      "Epoch 78/100\n",
      "4/4 [==============================] - 1s 150ms/step - loss: 0.1230 - accuracy: 0.9608 - val_loss: 0.0391 - val_accuracy: 1.0000\n",
      "Epoch 79/100\n",
      "4/4 [==============================] - 1s 144ms/step - loss: 0.0916 - accuracy: 0.9804 - val_loss: 0.0673 - val_accuracy: 1.0000\n",
      "Epoch 80/100\n",
      "4/4 [==============================] - 1s 170ms/step - loss: 0.0705 - accuracy: 0.9804 - val_loss: 0.0386 - val_accuracy: 1.0000\n",
      "Epoch 81/100\n",
      "4/4 [==============================] - 1s 170ms/step - loss: 0.0443 - accuracy: 1.0000 - val_loss: 0.0284 - val_accuracy: 1.0000\n",
      "Epoch 82/100\n",
      "4/4 [==============================] - 1s 135ms/step - loss: 0.0584 - accuracy: 0.9902 - val_loss: 0.0353 - val_accuracy: 1.0000\n",
      "Epoch 83/100\n",
      "4/4 [==============================] - 1s 135ms/step - loss: 0.0326 - accuracy: 1.0000 - val_loss: 0.0280 - val_accuracy: 1.0000\n",
      "Epoch 84/100\n",
      "4/4 [==============================] - 1s 170ms/step - loss: 0.0441 - accuracy: 0.9902 - val_loss: 0.0274 - val_accuracy: 1.0000\n",
      "Epoch 85/100\n",
      "4/4 [==============================] - 1s 135ms/step - loss: 0.0626 - accuracy: 0.9804 - val_loss: 0.0243 - val_accuracy: 1.0000\n",
      "Epoch 86/100\n",
      "4/4 [==============================] - 1s 167ms/step - loss: 0.0748 - accuracy: 0.9706 - val_loss: 0.0235 - val_accuracy: 1.0000\n",
      "Epoch 87/100\n",
      "4/4 [==============================] - 1s 136ms/step - loss: 0.0553 - accuracy: 0.9902 - val_loss: 0.0244 - val_accuracy: 1.0000\n",
      "Epoch 88/100\n",
      "4/4 [==============================] - 1s 136ms/step - loss: 0.0561 - accuracy: 0.9804 - val_loss: 0.0251 - val_accuracy: 1.0000\n",
      "Epoch 89/100\n",
      "4/4 [==============================] - 1s 138ms/step - loss: 0.0728 - accuracy: 0.9902 - val_loss: 0.0235 - val_accuracy: 1.0000\n",
      "Epoch 90/100\n",
      "4/4 [==============================] - 1s 167ms/step - loss: 0.0386 - accuracy: 0.9902 - val_loss: 0.0178 - val_accuracy: 1.0000\n",
      "Epoch 91/100\n",
      "4/4 [==============================] - 1s 132ms/step - loss: 0.0298 - accuracy: 1.0000 - val_loss: 0.0172 - val_accuracy: 1.0000\n",
      "Epoch 92/100\n",
      "4/4 [==============================] - 1s 135ms/step - loss: 0.0434 - accuracy: 1.0000 - val_loss: 0.0212 - val_accuracy: 1.0000\n",
      "Epoch 93/100\n",
      "4/4 [==============================] - 1s 133ms/step - loss: 0.0455 - accuracy: 0.9902 - val_loss: 0.0186 - val_accuracy: 1.0000\n",
      "Epoch 94/100\n",
      "4/4 [==============================] - 1s 134ms/step - loss: 0.0668 - accuracy: 0.9804 - val_loss: 0.0205 - val_accuracy: 1.0000\n",
      "Epoch 95/100\n",
      "4/4 [==============================] - 1s 135ms/step - loss: 0.0587 - accuracy: 0.9804 - val_loss: 0.0199 - val_accuracy: 1.0000\n",
      "Epoch 96/100\n",
      "4/4 [==============================] - 1s 133ms/step - loss: 0.0554 - accuracy: 0.9804 - val_loss: 0.0319 - val_accuracy: 1.0000\n",
      "Epoch 97/100\n",
      "4/4 [==============================] - 1s 167ms/step - loss: 0.0884 - accuracy: 0.9510 - val_loss: 0.0467 - val_accuracy: 1.0000\n",
      "Epoch 98/100\n",
      "4/4 [==============================] - 1s 167ms/step - loss: 0.0546 - accuracy: 0.9902 - val_loss: 0.1182 - val_accuracy: 0.9500\n",
      "Epoch 99/100\n",
      "4/4 [==============================] - 1s 167ms/step - loss: 0.1041 - accuracy: 0.9706 - val_loss: 0.0227 - val_accuracy: 1.0000\n",
      "Epoch 100/100\n",
      "4/4 [==============================] - 1s 135ms/step - loss: 0.0593 - accuracy: 0.9804 - val_loss: 0.0594 - val_accuracy: 0.9750\n"
     ]
    },
    {
     "data": {
      "text/plain": [
       "<tensorflow.python.keras.callbacks.History at 0x213cc76f940>"
      ]
     },
     "execution_count": 11,
     "metadata": {},
     "output_type": "execute_result"
    }
   ],
   "source": [
    "lung.fit_generator(x_train,steps_per_epoch = 4, \n",
    "                    epochs = 100,validation_data = x_test, \n",
    "                    validation_steps = 2)"
   ]
  },
  {
   "cell_type": "code",
   "execution_count": 12,
   "id": "87c916ff",
   "metadata": {},
   "outputs": [
    {
     "name": "stdout",
     "output_type": "stream",
     "text": [
      "{'Cancer': 0, 'NonCancer': 1}\n"
     ]
    }
   ],
   "source": [
    "print(x_train.class_indices)"
   ]
  },
  {
   "cell_type": "code",
   "execution_count": 13,
   "id": "ea398565",
   "metadata": {},
   "outputs": [],
   "source": [
    "lung.save(\"LungCancer.h5\")"
   ]
  },
  {
   "cell_type": "code",
   "execution_count": null,
   "id": "c9f5ba2f",
   "metadata": {},
   "outputs": [],
   "source": []
  }
 ],
 "metadata": {
  "kernelspec": {
   "display_name": "Python 3",
   "language": "python",
   "name": "python3"
  },
  "language_info": {
   "codemirror_mode": {
    "name": "ipython",
    "version": 3
   },
   "file_extension": ".py",
   "mimetype": "text/x-python",
   "name": "python",
   "nbconvert_exporter": "python",
   "pygments_lexer": "ipython3",
   "version": "3.8.8"
  }
 },
 "nbformat": 4,
 "nbformat_minor": 5
}
